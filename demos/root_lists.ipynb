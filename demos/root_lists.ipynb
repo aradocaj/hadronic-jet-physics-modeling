{
 "cells": [
  {
   "cell_type": "code",
   "execution_count": null,
   "id": "59a2c149",
   "metadata": {},
   "outputs": [],
   "source": [
    "import uproot, vector\n",
    "filepath = \"WToQQ_070.root\" #change if needed\n",
    "tree = uproot.open(filepath)['tree'] \n",
    "jets = {}\n",
    "components = ['px', 'py', 'pz', 'energy', 'dphi', 'deta', 'isChargedHadron', 'isNeutralHadron', 'isPhoton', 'isElectron', 'isMuon']\n",
    "for component in components:\n",
    "    label = 'part_' + component\n",
    "    branch = tree[label]\n",
    "    jets[label] = [jet for jet in branch.array().tolist()]\n",
    "p4 = vector.zip({'px': jets['part_px'],\n",
    "                 'py': jets['part_py'],\n",
    "                 'pz': jets['part_pz'],\n",
    "                 'energy': jets['part_energy']})\n",
    "jets['part_pt']=p4.pt.tolist()\n",
    "jets['part_eta']=p4.eta.tolist()\n",
    "jets['part_phi']=p4.phi.tolist()\n",
    "components = ['pt', 'eta', 'phi', 'nparticles', 'energy']\n",
    "for component in components:\n",
    "    label = 'jet_' + component\n",
    "    branch = tree[label]\n",
    "    jets[label] = [jet for jet in branch.array().tolist()]"
   ]
  }
 ],
 "metadata": {
  "kernelspec": {
   "display_name": "jet project",
   "language": "python",
   "name": "jet"
  },
  "language_info": {
   "codemirror_mode": {
    "name": "ipython",
    "version": 3
   },
   "file_extension": ".py",
   "mimetype": "text/x-python",
   "name": "python",
   "nbconvert_exporter": "python",
   "pygments_lexer": "ipython3",
   "version": "3.12.3"
  }
 },
 "nbformat": 4,
 "nbformat_minor": 5
}
