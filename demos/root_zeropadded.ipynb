{
 "cells": [
  {
   "cell_type": "code",
   "execution_count": 2,
   "id": "6525946b",
   "metadata": {},
   "outputs": [
    {
     "name": "stdout",
     "output_type": "stream",
     "text": [
      "x_particles.shape=(100000, 11, 128)\n",
      "\n",
      "\n",
      "x_jets.shape=(100000, 3)\n",
      "\n",
      "\n"
     ]
    }
   ],
   "source": [
    "import sys\n",
    "sys.path.append('./')\n",
    "\n",
    "import numpy as np\n",
    "from dataloader import read_file\n",
    "\n",
    "input=\"WToQQ_070.root\" #change if needed\n",
    "\n",
    "particle_features=['part_pt','part_eta','part_phi',\n",
    "                    'part_deta','part_dphi','part_energy',\n",
    "                    'part_isChargedHadron','part_isNeutralHadron',\n",
    "                    'part_isElectron','part_isMuon','part_isPhoton']\n",
    "\n",
    "jet_features=['jet_pt','jet_eta','jet_phi']\n",
    "\n",
    "x_particles, x_jets = read_file(\n",
    "                    filepath=input,particle_features=particle_features,jet_features=jet_features)\n",
    "\n",
    "mask = x_particles[:, 0, :] == 0\n",
    "\n",
    "full_mask = np.repeat(mask[:, np.newaxis, :], x_particles.shape[1], axis=1)\n",
    "\n",
    "x_particles=np.ma.masked_where(full_mask,x_particles)\n",
    "\n",
    "print(f\"x_particles.shape={x_particles.shape}\")\n",
    "#(num_jets,num_particle_features,num_particles)\n",
    "print(f\"\\n\",flush=True)\n",
    "\n",
    "print(f\"x_jets.shape={x_jets.shape}\")\n",
    "#(num_jets,num_jet_features)\n",
    "print(f\"\\n\",flush=True)\n",
    "\n",
    "jets={}\n",
    "\n",
    "for pf,label in enumerate(particle_features):\n",
    "    jets[label]=x_particles[:,pf,:]\n",
    "\n",
    "for jf,label in enumerate(jet_features):\n",
    "    jets[label]=x_jets[:,jf]\n",
    "\n",
    "jets['jet_nparticles']=jets['part_pt'].count(axis=1)"
   ]
  },
  {
   "cell_type": "code",
   "execution_count": null,
   "id": "4fa3902f",
   "metadata": {},
   "outputs": [],
   "source": []
  }
 ],
 "metadata": {
  "kernelspec": {
   "display_name": "jet project",
   "language": "python",
   "name": "jet"
  },
  "language_info": {
   "codemirror_mode": {
    "name": "ipython",
    "version": 3
   },
   "file_extension": ".py",
   "mimetype": "text/x-python",
   "name": "python",
   "nbconvert_exporter": "python",
   "pygments_lexer": "ipython3",
   "version": "3.12.3"
  }
 },
 "nbformat": 4,
 "nbformat_minor": 5
}
